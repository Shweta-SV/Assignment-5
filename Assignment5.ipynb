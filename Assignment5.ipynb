{
 "cells": [
  {
   "cell_type": "markdown",
   "metadata": {},
   "source": [
    "### Code to verify QR Decomposition of a Matrix "
   ]
  },
  {
   "cell_type": "code",
   "execution_count": 5,
   "metadata": {},
   "outputs": [
    {
     "name": "stdout",
     "output_type": "stream",
     "text": [
      "Q = ([0.9701, -0.2425], [-0.2425, -0.9701])\n",
      "\n",
      "R = ([6.1846, -0.7276], [0, 3.2742])\n",
      "\n",
      "V = [[ 5.99968046 -1.49983826]\n",
      " [-1.4997655  -2.99985842]]\n"
     ]
    }
   ],
   "source": [
    "import numpy as np\n",
    "#QR Decomposition of Matrix V\n",
    "q = ([0.9701, -0.2425],[-0.2425, -0.9701])\n",
    "r = ([6.1846, -0.7276],[0, 3.2742])\n",
    "print('Q =',q)\n",
    "print('\\nR =',r)\n",
    "#V = QR\n",
    "V = np.dot(q,r)\n",
    "print('\\nV =',V)"
   ]
  },
  {
   "cell_type": "code",
   "execution_count": null,
   "metadata": {},
   "outputs": [],
   "source": []
  }
 ],
 "metadata": {
  "kernelspec": {
   "display_name": "Python 3",
   "language": "python",
   "name": "python3"
  },
  "language_info": {
   "codemirror_mode": {
    "name": "ipython",
    "version": 3
   },
   "file_extension": ".py",
   "mimetype": "text/x-python",
   "name": "python",
   "nbconvert_exporter": "python",
   "pygments_lexer": "ipython3",
   "version": "3.7.3"
  }
 },
 "nbformat": 4,
 "nbformat_minor": 4
}
